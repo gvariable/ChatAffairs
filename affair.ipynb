{
 "cells": [
  {
   "cell_type": "code",
   "execution_count": null,
   "metadata": {},
   "outputs": [],
   "source": [
    "import openai\n",
    "from dotenv import dotenv_values\n",
    "from pathlib import Path\n",
    "import json\n",
    "import json_stream\n"
   ]
  },
  {
   "cell_type": "code",
   "execution_count": null,
   "metadata": {},
   "outputs": [],
   "source": [
    "CONFIG = dotenv_values(\".env\")\n",
    "openai.api_key = CONFIG[\"OPENAI_API_KEY\"]\n",
    "data_fn = Path(\"data.json\")"
   ]
  },
  {
   "cell_type": "code",
   "execution_count": null,
   "metadata": {},
   "outputs": [],
   "source": [
    "def get_sample():\n",
    "    with open(data_fn) as f:\n",
    "        for meta in json_stream.load(f):\n",
    "            meta = json_stream.to_standard_types(meta)\n",
    "            yield json.dumps(meta, ensure_ascii=False)\n",
    "\n",
    "def get_completion(user, system=None, assistant=None, model=\"gpt-3.5-turbo-16k\"):\n",
    "    messages = []\n",
    "    if system:\n",
    "        messages.append({\"role\": \"system\", \"content\": system})\n",
    "    messages.append({\"role\": \"user\", \"content\": user})\n",
    "    if assistant:\n",
    "        messages.append({\"role\": \"assistant\", \"content\": assistant})\n",
    "\n",
    "    response = openai.Completion.create(\n",
    "        model=model,\n",
    "        messages=messages,\n",
    "        temperature=0.1,  # the lower, the better?\n",
    "    )\n",
    "    return response.choices[0].message[\"content\"]"
   ]
  },
  {
   "cell_type": "code",
   "execution_count": null,
   "metadata": {},
   "outputs": [],
   "source": [
    "basic_prompt = \"\"\"\n",
    "你的任务是从湖北省政务文件中提取关键信息，整理出问题及对应的答案，并使用jsonl的输出格式，你可以按照以下步骤进行：\n",
    "1. 编写问题和回答对：从湖北省政务文件中提取关键信息，编写15-20对的问题和相应详细答案，确保回答能够清晰解释相关政务事项。\n",
    "2. 输出为jsonl格式： 将每个问题和回答对整理成一个json对象，并按照jsonl格式输出到文件中。使用\"input\"作为键来表示问题，使用\"output\"作为键来表示回答，不同问题和回答之间使用\\n分隔。例如：\n",
    "{\"input\": 问题1, “output”: 回答1}\\n{\"input\": 问题2, “output”: 回答2}\n",
    "湖北省政务文件是json格式，内容如下：\n",
    "\"\"\""
   ]
  },
  {
   "attachments": {},
   "cell_type": "markdown",
   "metadata": {},
   "source": [
    "# Case1: basic prompt as system prompt"
   ]
  },
  {
   "cell_type": "code",
   "execution_count": null,
   "metadata": {},
   "outputs": [],
   "source": [
    "sample = next(iter(get_sample()))\n",
    "get_completion(sample, system=basic_prompt)"
   ]
  },
  {
   "attachments": {},
   "cell_type": "markdown",
   "metadata": {},
   "source": [
    "# Case2: basic prompt as user prompt"
   ]
  },
  {
   "cell_type": "code",
   "execution_count": null,
   "metadata": {},
   "outputs": [],
   "source": [
    "user_prompt = basic_prompt + \"{document}\"\n",
    "user_prompt.format(document=sample)\n",
    "get_completion(user_prompt)"
   ]
  },
  {
   "attachments": {},
   "cell_type": "markdown",
   "metadata": {},
   "source": [
    "# Case3: basic prompt as system/user prompt with fewshot"
   ]
  },
  {
   "cell_type": "code",
   "execution_count": null,
   "metadata": {},
   "outputs": [],
   "source": [
    "get_completion(user_prompt, assistant=\"# TODO: fewshot example\")\n",
    "get_completion(sample, system=basic_prompt, assistant=\"# TODO: fewshot example\")"
   ]
  }
 ],
 "metadata": {
  "kernelspec": {
   "display_name": "crawler",
   "language": "python",
   "name": "python3"
  },
  "language_info": {
   "name": "python",
   "version": "3.11.0"
  },
  "orig_nbformat": 4
 },
 "nbformat": 4,
 "nbformat_minor": 2
}
